{
  "nbformat": 4,
  "nbformat_minor": 0,
  "metadata": {
    "colab": {
      "name": "lightfm_reccomendation_engine.ipynb",
      "provenance": [],
      "mount_file_id": "1wre-MNgZTpWfOOKzC_Fl5tfbnVkIrkL2",
      "authorship_tag": "ABX9TyNG/rMKvnNP3kU3LYZjxFWw",
      "include_colab_link": true
    },
    "kernelspec": {
      "name": "python3",
      "display_name": "Python 3"
    },
    "language_info": {
      "name": "python"
    }
  },
  "cells": [
    {
      "cell_type": "markdown",
      "metadata": {
        "id": "view-in-github",
        "colab_type": "text"
      },
      "source": [
        "<a href=\"https://colab.research.google.com/github/eli-vigneron/misc_projects/blob/main/lightfm_reccomendation_engine.ipynb\" target=\"_parent\"><img src=\"https://colab.research.google.com/assets/colab-badge.svg\" alt=\"Open In Colab\"/></a>"
      ]
    },
    {
      "cell_type": "code",
      "metadata": {
        "id": "Cnd5oc8uKE3X"
      },
      "source": [
        "import pandas as pd"
      ],
      "execution_count": null,
      "outputs": []
    },
    {
      "cell_type": "code",
      "metadata": {
        "id": "ux8r-NsjLxDP"
      },
      "source": [
        "features = pd.read_csv('/content/drive/MyDrive/features.csv')\n",
        "ratings = pd.read_csv('/content/drive/MyDrive/ratings.csv')"
      ],
      "execution_count": null,
      "outputs": []
    },
    {
      "cell_type": "code",
      "metadata": {
        "colab": {
          "base_uri": "https://localhost:8080/",
          "height": 224
        },
        "id": "4knJv7ywL9i0",
        "outputId": "39da6aad-1a3a-4038-843c-6e7b0fdaf20a"
      },
      "source": [
        "features.head()"
      ],
      "execution_count": null,
      "outputs": [
        {
          "output_type": "execute_result",
          "data": {
            "text/html": [
              "<div>\n",
              "<style scoped>\n",
              "    .dataframe tbody tr th:only-of-type {\n",
              "        vertical-align: middle;\n",
              "    }\n",
              "\n",
              "    .dataframe tbody tr th {\n",
              "        vertical-align: top;\n",
              "    }\n",
              "\n",
              "    .dataframe thead th {\n",
              "        text-align: right;\n",
              "    }\n",
              "</style>\n",
              "<table border=\"1\" class=\"dataframe\">\n",
              "  <thead>\n",
              "    <tr style=\"text-align: right;\">\n",
              "      <th></th>\n",
              "      <th>product_id</th>\n",
              "      <th>product_class_id</th>\n",
              "      <th>product_year</th>\n",
              "      <th>product_name</th>\n",
              "      <th>country_name</th>\n",
              "      <th>feature1</th>\n",
              "      <th>feature2</th>\n",
              "      <th>feature3</th>\n",
              "      <th>feature4</th>\n",
              "      <th>feature5</th>\n",
              "      <th>num_ratings</th>\n",
              "      <th>avg_ratings</th>\n",
              "      <th>region_name</th>\n",
              "      <th>food1</th>\n",
              "      <th>food2</th>\n",
              "      <th>food3</th>\n",
              "      <th>food4</th>\n",
              "      <th>food5</th>\n",
              "      <th>food6</th>\n",
              "      <th>food7</th>\n",
              "      <th>note1</th>\n",
              "      <th>note2</th>\n",
              "      <th>note3</th>\n",
              "      <th>note4</th>\n",
              "      <th>note5</th>\n",
              "      <th>note6</th>\n",
              "      <th>note7</th>\n",
              "      <th>note8</th>\n",
              "      <th>note9</th>\n",
              "      <th>note10</th>\n",
              "      <th>note11</th>\n",
              "      <th>note12</th>\n",
              "      <th>note13</th>\n",
              "      <th>class_name</th>\n",
              "      <th>price</th>\n",
              "    </tr>\n",
              "  </thead>\n",
              "  <tbody>\n",
              "    <tr>\n",
              "      <th>0</th>\n",
              "      <td>724939662765</td>\n",
              "      <td>10084382031</td>\n",
              "      <td>10366272</td>\n",
              "      <td>1</td>\n",
              "      <td>10000.0</td>\n",
              "      <td>11480.168232</td>\n",
              "      <td>18508.557202</td>\n",
              "      <td>11210.750328</td>\n",
              "      <td>13386.629203</td>\n",
              "      <td>0.0</td>\n",
              "      <td>89979024</td>\n",
              "      <td>7.4</td>\n",
              "      <td>15000.0</td>\n",
              "      <td>1</td>\n",
              "      <td>1</td>\n",
              "      <td>0</td>\n",
              "      <td>0</td>\n",
              "      <td>0</td>\n",
              "      <td>0</td>\n",
              "      <td>1</td>\n",
              "      <td>66009.78262062</td>\n",
              "      <td>2129.347826598</td>\n",
              "      <td>8517.391302474</td>\n",
              "      <td>53233.69564536</td>\n",
              "      <td>4258.695653196</td>\n",
              "      <td>21293.478262062</td>\n",
              "      <td>2129.347826598</td>\n",
              "      <td>112855.43479794</td>\n",
              "      <td>95820.65217732</td>\n",
              "      <td>12776.08695567</td>\n",
              "      <td>0</td>\n",
              "      <td>0</td>\n",
              "      <td>12776.08695567</td>\n",
              "      <td>20000</td>\n",
              "      <td>19.95</td>\n",
              "    </tr>\n",
              "    <tr>\n",
              "      <th>1</th>\n",
              "      <td>1347498441408</td>\n",
              "      <td>3287810067</td>\n",
              "      <td>9543813</td>\n",
              "      <td>2</td>\n",
              "      <td>10001.0</td>\n",
              "      <td>21150.199920</td>\n",
              "      <td>12395.008618</td>\n",
              "      <td>6815.636914</td>\n",
              "      <td>0.000000</td>\n",
              "      <td>0.0</td>\n",
              "      <td>9592056</td>\n",
              "      <td>7.6</td>\n",
              "      <td>15001.0</td>\n",
              "      <td>0</td>\n",
              "      <td>0</td>\n",
              "      <td>0</td>\n",
              "      <td>0</td>\n",
              "      <td>0</td>\n",
              "      <td>0</td>\n",
              "      <td>0</td>\n",
              "      <td>3957.57575718</td>\n",
              "      <td>122684.84847258</td>\n",
              "      <td>3957.57575718</td>\n",
              "      <td>67278.78787206</td>\n",
              "      <td>3957.57575718</td>\n",
              "      <td>3957.57575718</td>\n",
              "      <td>7915.15151436</td>\n",
              "      <td>7915.15151436</td>\n",
              "      <td>3957.57575718</td>\n",
              "      <td>3957.57575718</td>\n",
              "      <td>91024.24241514</td>\n",
              "      <td>23745.454546998</td>\n",
              "      <td>47490.90908616</td>\n",
              "      <td>20001</td>\n",
              "      <td>17.95</td>\n",
              "    </tr>\n",
              "    <tr>\n",
              "      <th>2</th>\n",
              "      <td>1022923631932</td>\n",
              "      <td>28349197767</td>\n",
              "      <td>12967668</td>\n",
              "      <td>3</td>\n",
              "      <td>10002.0</td>\n",
              "      <td>19865.256912</td>\n",
              "      <td>10852.594147</td>\n",
              "      <td>4928.222765</td>\n",
              "      <td>0.000000</td>\n",
              "      <td>0.0</td>\n",
              "      <td>830808</td>\n",
              "      <td>7.6</td>\n",
              "      <td>15002.0</td>\n",
              "      <td>0</td>\n",
              "      <td>0</td>\n",
              "      <td>0</td>\n",
              "      <td>0</td>\n",
              "      <td>0</td>\n",
              "      <td>1</td>\n",
              "      <td>0</td>\n",
              "      <td>0</td>\n",
              "      <td>180830.7692157</td>\n",
              "      <td>0</td>\n",
              "      <td>60276.92305884</td>\n",
              "      <td>0</td>\n",
              "      <td>0</td>\n",
              "      <td>0</td>\n",
              "      <td>0</td>\n",
              "      <td>0</td>\n",
              "      <td>30138.461537256</td>\n",
              "      <td>60276.92305884</td>\n",
              "      <td>30138.461537256</td>\n",
              "      <td>30138.461537256</td>\n",
              "      <td>20002</td>\n",
              "      <td>14.95</td>\n",
              "    </tr>\n",
              "    <tr>\n",
              "      <th>3</th>\n",
              "      <td>5182824340</td>\n",
              "      <td>9062972469</td>\n",
              "      <td>92275236</td>\n",
              "      <td>4</td>\n",
              "      <td>10003.0</td>\n",
              "      <td>18501.937258</td>\n",
              "      <td>20850.229920</td>\n",
              "      <td>7673.151638</td>\n",
              "      <td>19155.065150</td>\n",
              "      <td>0.0</td>\n",
              "      <td>8979440</td>\n",
              "      <td>7.0</td>\n",
              "      <td>15003.0</td>\n",
              "      <td>1</td>\n",
              "      <td>0</td>\n",
              "      <td>1</td>\n",
              "      <td>0</td>\n",
              "      <td>0</td>\n",
              "      <td>1</td>\n",
              "      <td>0</td>\n",
              "      <td>55971.42858822</td>\n",
              "      <td>9328.571428758</td>\n",
              "      <td>9328.571428758</td>\n",
              "      <td>27985.714286274</td>\n",
              "      <td>0</td>\n",
              "      <td>4664.28571242</td>\n",
              "      <td>4664.28571242</td>\n",
              "      <td>149257.1428758</td>\n",
              "      <td>79292.85715032</td>\n",
              "      <td>46642.8571242</td>\n",
              "      <td>0</td>\n",
              "      <td>0</td>\n",
              "      <td>4664.28571242</td>\n",
              "      <td>20003</td>\n",
              "      <td>12.00</td>\n",
              "    </tr>\n",
              "    <tr>\n",
              "      <th>4</th>\n",
              "      <td>956452733050</td>\n",
              "      <td>21064890288</td>\n",
              "      <td>12967668</td>\n",
              "      <td>5</td>\n",
              "      <td>10002.0</td>\n",
              "      <td>0.000000</td>\n",
              "      <td>0.000000</td>\n",
              "      <td>0.000000</td>\n",
              "      <td>0.000000</td>\n",
              "      <td>0.0</td>\n",
              "      <td>134272</td>\n",
              "      <td>7.6</td>\n",
              "      <td>15004.0</td>\n",
              "      <td>0</td>\n",
              "      <td>0</td>\n",
              "      <td>0</td>\n",
              "      <td>0</td>\n",
              "      <td>0</td>\n",
              "      <td>0</td>\n",
              "      <td>0</td>\n",
              "      <td>0</td>\n",
              "      <td>0</td>\n",
              "      <td>0</td>\n",
              "      <td>97950</td>\n",
              "      <td>0</td>\n",
              "      <td>97950</td>\n",
              "      <td>0</td>\n",
              "      <td>0</td>\n",
              "      <td>0</td>\n",
              "      <td>0</td>\n",
              "      <td>97950</td>\n",
              "      <td>97950</td>\n",
              "      <td>0</td>\n",
              "      <td>20004</td>\n",
              "      <td>17.20</td>\n",
              "    </tr>\n",
              "  </tbody>\n",
              "</table>\n",
              "</div>"
            ],
            "text/plain": [
              "      product_id  product_class_id  ...  class_name  price\n",
              "0   724939662765       10084382031  ...       20000  19.95\n",
              "1  1347498441408        3287810067  ...       20001  17.95\n",
              "2  1022923631932       28349197767  ...       20002  14.95\n",
              "3     5182824340        9062972469  ...       20003  12.00\n",
              "4   956452733050       21064890288  ...       20004  17.20\n",
              "\n",
              "[5 rows x 35 columns]"
            ]
          },
          "metadata": {
            "tags": []
          },
          "execution_count": 3
        }
      ]
    },
    {
      "cell_type": "code",
      "metadata": {
        "colab": {
          "base_uri": "https://localhost:8080/",
          "height": 204
        },
        "id": "fVgkZCuzMDED",
        "outputId": "1f311e90-25ab-4b62-872c-841418bba718"
      },
      "source": [
        "ratings.head()"
      ],
      "execution_count": null,
      "outputs": [
        {
          "output_type": "execute_result",
          "data": {
            "text/html": [
              "<div>\n",
              "<style scoped>\n",
              "    .dataframe tbody tr th:only-of-type {\n",
              "        vertical-align: middle;\n",
              "    }\n",
              "\n",
              "    .dataframe tbody tr th {\n",
              "        vertical-align: top;\n",
              "    }\n",
              "\n",
              "    .dataframe thead th {\n",
              "        text-align: right;\n",
              "    }\n",
              "</style>\n",
              "<table border=\"1\" class=\"dataframe\">\n",
              "  <thead>\n",
              "    <tr style=\"text-align: right;\">\n",
              "      <th></th>\n",
              "      <th>user_id</th>\n",
              "      <th>product_id</th>\n",
              "      <th>rating</th>\n",
              "    </tr>\n",
              "  </thead>\n",
              "  <tbody>\n",
              "    <tr>\n",
              "      <th>0</th>\n",
              "      <td>8765713110</td>\n",
              "      <td>1.623200e+12</td>\n",
              "      <td>10</td>\n",
              "    </tr>\n",
              "    <tr>\n",
              "      <th>1</th>\n",
              "      <td>8765713110</td>\n",
              "      <td>1.623200e+12</td>\n",
              "      <td>10</td>\n",
              "    </tr>\n",
              "    <tr>\n",
              "      <th>2</th>\n",
              "      <td>8765713110</td>\n",
              "      <td>1.623200e+12</td>\n",
              "      <td>10</td>\n",
              "    </tr>\n",
              "    <tr>\n",
              "      <th>3</th>\n",
              "      <td>8765713110</td>\n",
              "      <td>1.623200e+12</td>\n",
              "      <td>10</td>\n",
              "    </tr>\n",
              "    <tr>\n",
              "      <th>4</th>\n",
              "      <td>8765713110</td>\n",
              "      <td>1.623200e+12</td>\n",
              "      <td>10</td>\n",
              "    </tr>\n",
              "  </tbody>\n",
              "</table>\n",
              "</div>"
            ],
            "text/plain": [
              "      user_id    product_id  rating\n",
              "0  8765713110  1.623200e+12      10\n",
              "1  8765713110  1.623200e+12      10\n",
              "2  8765713110  1.623200e+12      10\n",
              "3  8765713110  1.623200e+12      10\n",
              "4  8765713110  1.623200e+12      10"
            ]
          },
          "metadata": {
            "tags": []
          },
          "execution_count": 4
        }
      ]
    },
    {
      "cell_type": "code",
      "metadata": {
        "colab": {
          "base_uri": "https://localhost:8080/"
        },
        "id": "lRfdH-rv__K9",
        "outputId": "df57163c-2f57-45ba-8606-0775ed95621a"
      },
      "source": [
        "ratings.isnull().sum()"
      ],
      "execution_count": null,
      "outputs": [
        {
          "output_type": "execute_result",
          "data": {
            "text/plain": [
              "user_id        0\n",
              "product_id    33\n",
              "rating         0\n",
              "dtype: int64"
            ]
          },
          "metadata": {
            "tags": []
          },
          "execution_count": 7
        }
      ]
    },
    {
      "cell_type": "code",
      "metadata": {
        "id": "GnpfALcs6kvO"
      },
      "source": [
        "# ratings.dropna(inplace=True)\n",
        "ratings['product_id'] = ratings['product_id'].fillna('No ID')"
      ],
      "execution_count": null,
      "outputs": []
    },
    {
      "cell_type": "code",
      "metadata": {
        "colab": {
          "base_uri": "https://localhost:8080/"
        },
        "id": "2eIGBmctA70-",
        "outputId": "da3a3b34-4298-4379-839c-29ec646950a9"
      },
      "source": [
        "features.isnull().sum()"
      ],
      "execution_count": null,
      "outputs": [
        {
          "output_type": "execute_result",
          "data": {
            "text/plain": [
              "product_id             0\n",
              "product_class_id       0\n",
              "product_year           0\n",
              "product_name           0\n",
              "country_name          65\n",
              "feature1               0\n",
              "feature2               0\n",
              "feature3               0\n",
              "feature4               0\n",
              "feature5               0\n",
              "num_ratings            0\n",
              "avg_ratings            0\n",
              "region_name         1604\n",
              "food1                  0\n",
              "food2                  0\n",
              "food3                  0\n",
              "food4                  0\n",
              "food5                  0\n",
              "food6                  0\n",
              "food7                  0\n",
              "note1                  0\n",
              "note2                  0\n",
              "note3                  0\n",
              "note4                  0\n",
              "note5                  0\n",
              "note6                  0\n",
              "note7                  0\n",
              "note8                  0\n",
              "note9                  0\n",
              "note10                 0\n",
              "note11                 0\n",
              "note12                 0\n",
              "note13                 0\n",
              "class_name             0\n",
              "price                  0\n",
              "dtype: int64"
            ]
          },
          "metadata": {
            "tags": []
          },
          "execution_count": 10
        }
      ]
    },
    {
      "cell_type": "code",
      "metadata": {
        "id": "d9C720NM-HmP"
      },
      "source": [
        "features.fillna(0, inplace=True)\n",
        "# features.dropna(inplace=True)"
      ],
      "execution_count": null,
      "outputs": []
    },
    {
      "cell_type": "code",
      "metadata": {
        "id": "xQhUsaVQOdRU"
      },
      "source": [
        "!pip install lightfm"
      ],
      "execution_count": null,
      "outputs": []
    },
    {
      "cell_type": "code",
      "metadata": {
        "id": "jB4An-ip4XLA"
      },
      "source": [
        "from lightfm.data import Dataset\n",
        "\n",
        "# create lightfm internel mapping\n",
        "dataset = Dataset()\n",
        "dataset.fit(ratings['user_id'].unique(),\n",
        "            features['product_id'].unique(),\n",
        "            user_features=ratings.values.flatten(),\n",
        "            item_features=features.values.flatten()\n",
        "            )"
      ],
      "execution_count": null,
      "outputs": []
    },
    {
      "cell_type": "code",
      "metadata": {
        "colab": {
          "base_uri": "https://localhost:8080/"
        },
        "id": "eACQipPytvzb",
        "outputId": "cd24851c-8538-43f6-8cd2-a41b6d095078"
      },
      "source": [
        "num_users, num_items = dataset.interactions_shape()\n",
        "print('Num users: {}, num_items {}.'.format(num_users, num_items))"
      ],
      "execution_count": null,
      "outputs": [
        {
          "output_type": "stream",
          "text": [
            "Num users: 16836, num_items 3913.\n"
          ],
          "name": "stdout"
        }
      ]
    },
    {
      "cell_type": "code",
      "metadata": {
        "id": "rt82Wc2V-W-k"
      },
      "source": [
        "dataset.fit_partial(items=(row['product_id'] for index, row in features.iterrows()),\n",
        "                    item_features=features.loc[:, 'product_class_id':'price'].values.flatten())\n",
        "                    #item_features=features[['feature1','feature2','feature3','feature4']].values.flatten())"
      ],
      "execution_count": null,
      "outputs": []
    },
    {
      "cell_type": "code",
      "metadata": {
        "colab": {
          "base_uri": "https://localhost:8080/"
        },
        "id": "zC6-fIpBvea0",
        "outputId": "f4beac15-0944-4469-fdc7-264b96374ffa"
      },
      "source": [
        "(interactions, weights) = dataset.build_interactions(((row['user_id'], row['product_id']) for index, row in ratings.iterrows()))\n",
        "\n",
        "print(repr(interactions))"
      ],
      "execution_count": null,
      "outputs": [
        {
          "output_type": "stream",
          "text": [
            "<16836x3913 sparse matrix of type '<class 'numpy.int32'>'\n",
            "\twith 93296 stored elements in COOrdinate format>\n"
          ],
          "name": "stdout"
        }
      ]
    },
    {
      "cell_type": "code",
      "metadata": {
        "colab": {
          "base_uri": "https://localhost:8080/"
        },
        "id": "oFYLRArPvetC",
        "outputId": "52261e5b-c6f1-4537-ddae-349cd7300a16"
      },
      "source": [
        "item_features = dataset.build_item_features(((row['product_id'], \n",
        "                                              #row['product_class_id':'price'])\n",
        "                                              row[['product_class_id', 'feature1','feature2','feature3','feature4']])\n",
        "                                              for index, row in features.iterrows()))\n",
        "#item_features = dataset.build_item_features(features[['product_id', 'feature1','feature2','feature3','feature4']].values.flatten())\n",
        "print(repr(item_features))"
      ],
      "execution_count": null,
      "outputs": [
        {
          "output_type": "stream",
          "text": [
            "<4396x38722 sparse matrix of type '<class 'numpy.float32'>'\n",
            "\twith 23425 stored elements in Compressed Sparse Row format>\n"
          ],
          "name": "stdout"
        }
      ]
    },
    {
      "cell_type": "code",
      "metadata": {
        "id": "o-7lETCaHe55"
      },
      "source": [
        "from lightfm import LightFM\n",
        "from lightfm.evaluation import auc_score\n",
        "from lightfm.cross_validation import random_train_test_split\n",
        "\n",
        "train, test = random_train_test_split(interactions, test_percentage=0.2, random_state=None)\n",
        "\n",
        "# Set the number of threads; you can increase this\n",
        "# if you have more physical cores available.\n",
        "NUM_THREADS = 4\n",
        "NUM_COMPONENTS = 30\n",
        "NUM_EPOCHS = 80\n",
        "ITEM_ALPHA = 1e-6"
      ],
      "execution_count": null,
      "outputs": []
    },
    {
      "cell_type": "code",
      "metadata": {
        "colab": {
          "base_uri": "https://localhost:8080/"
        },
        "id": "Z9--5uZlve5x",
        "outputId": "4c6ebf3b-88cb-4aba-cdde-8d845703bcd5"
      },
      "source": [
        "# Let's fit a WARP model: these generally have the best performance.\n",
        "model = LightFM(loss='warp',\n",
        "                item_alpha=ITEM_ALPHA)\n",
        "\n",
        "# Run 3 epochs and time it.\n",
        "%time model = model.fit(train, epochs=NUM_EPOCHS, num_threads=NUM_THREADS)"
      ],
      "execution_count": null,
      "outputs": [
        {
          "output_type": "stream",
          "text": [
            "CPU times: user 8.92 s, sys: 24 ms, total: 8.95 s\n",
            "Wall time: 4.92 s\n"
          ],
          "name": "stdout"
        }
      ]
    },
    {
      "cell_type": "code",
      "metadata": {
        "colab": {
          "base_uri": "https://localhost:8080/"
        },
        "id": "JLPUk-Qvve_t",
        "outputId": "9fdada09-aa27-4d2c-fb5a-3a2ab1beff11"
      },
      "source": [
        "# Import the evaluation routines\n",
        "from lightfm.evaluation import auc_score\n",
        "\n",
        "# Compute and print the train AUC score\n",
        "train_auc = auc_score(model, train, num_threads=NUM_THREADS).mean()\n",
        "print('Collaborative filtering train AUC: %s' % train_auc)"
      ],
      "execution_count": null,
      "outputs": [
        {
          "output_type": "stream",
          "text": [
            "Collaborative filtering train AUC: 0.9851957\n"
          ],
          "name": "stdout"
        }
      ]
    },
    {
      "cell_type": "code",
      "metadata": {
        "colab": {
          "base_uri": "https://localhost:8080/"
        },
        "id": "b5aWG6A4BmRn",
        "outputId": "8e11d91d-0080-4f4d-b6ce-c0059a303a92"
      },
      "source": [
        "# We pass in the train interactions to exclude them from predictions.\n",
        "# This is to simulate a recommender system where we do not\n",
        "# re-recommend things the user has already interacted with in the train\n",
        "# set.\n",
        "test_auc = auc_score(model, test, num_threads=NUM_THREADS).mean()\n",
        "print('Collaborative filtering test AUC: %s' % test_auc)"
      ],
      "execution_count": null,
      "outputs": [
        {
          "output_type": "stream",
          "text": [
            "Collaborative filtering test AUC: 0.8134483\n"
          ],
          "name": "stdout"
        }
      ]
    },
    {
      "cell_type": "code",
      "metadata": {
        "colab": {
          "base_uri": "https://localhost:8080/"
        },
        "id": "OQYh0_ik_r3I",
        "outputId": "74a7251d-2388-49fe-cb8a-1f55c85e03b5"
      },
      "source": [
        "# Define a new model instance\n",
        "model = LightFM(loss='warp',\n",
        "                item_alpha=ITEM_ALPHA,\n",
        "                no_components=NUM_COMPONENTS)\n",
        "\n",
        "# Fit the hybrid model. Note that this time, we pass\n",
        "# in the item features matrix.\n",
        "model = model.fit(train,\n",
        "                item_features=item_features,\n",
        "                epochs=NUM_EPOCHS,\n",
        "                num_threads=NUM_THREADS)\n",
        "\n",
        "# Don't forget the pass in the item features again!\n",
        "train_auc = auc_score(model,\n",
        "                      train,\n",
        "                      item_features=item_features,\n",
        "                      num_threads=NUM_THREADS).mean()\n",
        "print('Hybrid training set AUC: %s' % train_auc)\n",
        "\n",
        "test_auc = auc_score(model,\n",
        "                    test,\n",
        "                    #train_interactions=train, # Unable to run with this line uncommented\n",
        "                    item_features=item_features,\n",
        "                    num_threads=NUM_THREADS).mean()\n",
        "print('Hybrid test set AUC: %s' % test_auc)"
      ],
      "execution_count": null,
      "outputs": [
        {
          "output_type": "stream",
          "text": [
            "Hybrid training set AUC: 0.8884649\n",
            "Hybrid test set AUC: 0.81616676\n"
          ],
          "name": "stdout"
        }
      ]
    }
  ]
}